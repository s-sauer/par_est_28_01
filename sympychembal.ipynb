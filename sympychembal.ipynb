{
 "metadata": {
  "language_info": {
   "codemirror_mode": {
    "name": "ipython",
    "version": 3
   },
   "file_extension": ".py",
   "mimetype": "text/x-python",
   "name": "python",
   "nbconvert_exporter": "python",
   "pygments_lexer": "ipython3",
   "version": "3.8.3-final"
  },
  "orig_nbformat": 2,
  "kernelspec": {
   "name": "python3",
   "display_name": "Python 3",
   "language": "python"
  }
 },
 "nbformat": 4,
 "nbformat_minor": 2,
 "cells": [
  {
   "cell_type": "code",
   "execution_count": 1,
   "metadata": {},
   "outputs": [
    {
     "output_type": "stream",
     "name": "stdout",
     "text": [
      "{'gluc': 180.1548, 'O2': 31.998, 'NH3': 17.0307, 'biomass': 25.035621, 'CO2': 44.009, 'H2O': 18.0148, 'etoh': 46.0684}\n"
     ]
    }
   ],
   "source": [
    "import numpy as np\n",
    "import sympy as sp\n",
    "from sympy import Eq\n",
    "from sympy import symbols\n",
    "\n",
    "#Rheienfolge: C,H,O,N\n",
    "gluc = np.array([6.0,12.0,6.0,0.0])\n",
    "O2 = np.array([0.0, 0.0, 2.0, 0.0])\n",
    "NH3 = np.array([0.0,3.0,0.0,1.0])\n",
    "biomass = np.array([1.0,1.79,0.57,0.15])\n",
    "CO2 = np.array([1.0,0.0,2.0,0.0])\n",
    "H2O = np.array([0.0,2.0,1.0,0.0])\n",
    "etoh = np.array([2.0,6.0,1.0,0.0])\n",
    "\n",
    "NX1 = 0.15\n",
    "\n",
    "MW_element_dict = {\"C\": 12.011, \"H\": 1.0079, \"O\": 15.999, \"N\": 14.007}\n",
    "molecule_element_dict = {\"gluc\": gluc, \"O2\": O2, \"NH3\" : NH3, \"biomass\": biomass, \"CO2\" : CO2, \"H2O\":  H2O, \"etoh\": etoh}\n",
    "\n",
    "MW = {}\n",
    "\n",
    "for key, molecule in molecule_element_dict.items():\n",
    "    molecule_MW_array = ([])\n",
    "    for vectorvalue, weight in zip (molecule, MW_element_dict.values()):\n",
    "        vw = vectorvalue*weight\n",
    "        molecule_MW_array= np.append(molecule_MW_array, vw)\n",
    "    MW[key] = sum(molecule_MW_array)\n",
    "\n",
    "print(MW)\n",
    "\n"
   ]
  },
  {
   "cell_type": "code",
   "execution_count": 17,
   "metadata": {},
   "outputs": [
    {
     "output_type": "display_data",
     "data": {
      "text/plain": "Eq(6.0 - 1.0*g, 1.0*h + 2.0*j)",
      "text/latex": "$\\displaystyle 6.0 - 1.0 g = 1.0 h + 2.0 j$"
     },
     "metadata": {}
    },
    {
     "output_type": "display_data",
     "data": {
      "text/plain": "Eq(3.0*NX*g - 1.79*g + 12.0, 2.0*i + 6.0*j)",
      "text/latex": "$\\displaystyle 3.0 NX g - 1.79 g + 12.0 = 2.0 i + 6.0 j$"
     },
     "metadata": {}
    },
    {
     "output_type": "display_data",
     "data": {
      "text/plain": "Eq(6.0 - 0.57*g, 2.0*h + 1.0*i + 1.0*j)",
      "text/latex": "$\\displaystyle 6.0 - 0.57 g = 2.0 h + 1.0 i + 1.0 j$"
     },
     "metadata": {}
    },
    {
     "output_type": "display_data",
     "data": {
      "text/plain": "Eq(1.0*NX*g - 0.15*g, 0)",
      "text/latex": "$\\displaystyle 1.0 NX g - 0.15 g = 0$"
     },
     "metadata": {}
    },
    {
     "output_type": "display_data",
     "data": {
      "text/plain": "'Einsetzen für g = 0.3598  und NX = 0.15'"
     },
     "metadata": {}
    },
    {
     "output_type": "display_data",
     "data": {
      "text/plain": "Eq(5.64020305308185, 1.0*h + 2.0*j)",
      "text/latex": "$\\displaystyle 5.64020305308185 = 1.0 h + 2.0 j$"
     },
     "metadata": {}
    },
    {
     "output_type": "display_data",
     "data": {
      "text/plain": "Eq(11.5178720911297, 2.0*i + 6.0*j)",
      "text/latex": "$\\displaystyle 11.5178720911297 = 2.0 i + 6.0 j$"
     },
     "metadata": {}
    },
    {
     "output_type": "display_data",
     "data": {
      "text/plain": "Eq(5.79491574025665, 2.0*h + 1.0*i + 1.0*j)",
      "text/latex": "$\\displaystyle 5.79491574025665 = 2.0 h + 1.0 i + 1.0 j$"
     },
     "metadata": {}
    },
    {
     "output_type": "display_data",
     "data": {
      "text/plain": "[{h: 1.89206091592455, i: 0.136722839828900, j: 1.87407106857865}]"
     },
     "metadata": {}
    },
    {
     "output_type": "stream",
     "name": "stdout",
     "text": [
      "9.244017794577056\n"
     ]
    }
   ],
   "source": [
    "# Code for reductive fermentation\n",
    "g,h,i,j, NX = symbols(\"g h i j NX\")\n",
    "\n",
    "\n",
    "YxsRed = 0.05\n",
    "g1 = YxsRed* MW[\"gluc\"]/MW[\"biomass\"]\n",
    "\n",
    "for num in range(4):\n",
    "    eqRed = Eq(gluc[num]+ g*NX*NH3[num] - g*biomass[num], h*CO2[num]+ i*H2O[num]+ j*etoh[num])\n",
    "    display(eqRed)\n",
    "\n",
    "display(\"Einsetzen für g = 0.3598  und NX = 0.15\")\n",
    "\n",
    "eqRed_list = []\n",
    "for num in range(3):\n",
    "    eqRed = Eq(gluc[num]+ g*NX*NH3[num] - g*biomass[num], h*CO2[num]+ i*H2O[num]+ j*etoh[num])\n",
    "    eqRed = eqRed.subs({g: g1, NX: NX1})\n",
    "    eqRed_list.append(eqRed)\n",
    "    display(eqRed)\n",
    "\n",
    "\n",
    "solution_Red = sp.solve(eqRed_list, (h, i, j), dict= True)\n",
    "display(solution_Red)\n",
    "\n",
    "h1,i1,j1 = np.float(solution_Red[0][h]), np.float(solution_Red[0][i]), np.float(solution_Red[0][j])\n",
    "\n",
    "#Yieldcoefficients from molar coefficients\n",
    "YesRed = j1/1 * MW[\"etoh\"]/MW[\"gluc\"]\n",
    "Yco2xRed = h1/g1 * MW[\"CO2\"]/MW[\"biomass\"]\n",
    "print(Yco2xRed)\n",
    "\n"
   ]
  },
  {
   "cell_type": "code",
   "execution_count": 16,
   "metadata": {},
   "outputs": [
    {
     "output_type": "display_data",
     "data": {
      "text/plain": "Eq(2.4739899202021 - 1.0*c, 0)",
      "text/latex": "$\\displaystyle 2.4739899202021 - 1.0 c = 0$"
     },
     "metadata": {}
    },
    {
     "output_type": "display_data",
     "data": {
      "text/plain": "Eq(7.27514649307081 - 2.0*d, 0)",
      "text/latex": "$\\displaystyle 7.27514649307081 - 2.0 d = 0$"
     },
     "metadata": {}
    },
    {
     "output_type": "display_data",
     "data": {
      "text/plain": "Eq(2.0*a - 2.0*c - 1.0*d + 3.9901742545152, 0)",
      "text/latex": "$\\displaystyle 2.0 a - 2.0 c - 1.0 d + 3.9901742545152 = 0$"
     },
     "metadata": {}
    },
    {
     "output_type": "display_data",
     "data": {
      "text/plain": "[{a: 2.29768941621220, c: 2.47398992020210, d: 3.63757324653541}]"
     },
     "metadata": {}
    },
    {
     "output_type": "stream",
     "name": "stdout",
     "text": [
      "1.23338172253692\n"
     ]
    }
   ],
   "source": [
    "#Code for oxidative fermentation\n",
    "a,b,c,d, NX = symbols(\"a b c d NX\")\n",
    "YxsOx = 0.49\n",
    "b1 = YxsOx* MW[\"gluc\"]/MW[\"biomass\"]\n",
    "\n",
    "#Rheienfolge in den vectoren war C,H,O,N\n",
    "eqOx_list = []\n",
    "for num in range(3):\n",
    "    eqOx = Eq(gluc[num]+ a*O2[num]+ b*NX*NH3[num]- b*biomass[num]- c*CO2[num]- d*H2O[num], 0)\n",
    "    eqOx = eqOx.subs({b: b1, NX: NX1})\n",
    "    eqOx_list.append(eqOx)\n",
    "    display(eqOx)\n",
    "\n",
    "solution_Ox = sp.solve(eqOx_list, (a, c, d), dict= True)\n",
    "display(solution_Ox)\n",
    "\n",
    "a1, c1, d1 = np.float(solution_Ox[0][a]), np.float(solution_Ox[0][c]), np.float(solution_Ox[0][d])\n",
    "Yco2xOx = c1/b1 * MW[\"CO2\"]/MW[\"biomass\"]\n",
    "print(Yco2xOx)"
   ]
  },
  {
   "cell_type": "code",
   "execution_count": 18,
   "metadata": {},
   "outputs": [
    {
     "output_type": "display_data",
     "data": {
      "text/plain": "Eq(0.675117825118059 - 1.0*m, 0)",
      "text/latex": "$\\displaystyle 0.675117825118059 - 1.0 m = 0$"
     },
     "metadata": {}
    },
    {
     "output_type": "display_data",
     "data": {
      "text/plain": "Eq(4.2246578856582 - 2.0*n, 0)",
      "text/latex": "$\\displaystyle 4.2246578856582 - 2.0 n = 0$"
     },
     "metadata": {}
    },
    {
     "output_type": "display_data",
     "data": {
      "text/plain": "Eq(2.0*k - 2.0*m - 1.0*n + 0.244817160317294, 0)",
      "text/latex": "$\\displaystyle 2.0 k - 2.0 m - 1.0 n + 0.244817160317294 = 0$"
     },
     "metadata": {}
    },
    {
     "output_type": "display_data",
     "data": {
      "text/plain": "[{k: 1.60887371637396, m: 0.675117825118059, n: 2.11232894282910}]"
     },
     "metadata": {}
    },
    {
     "output_type": "stream",
     "name": "stdout",
     "text": [
      "0.8957471802080247\n"
     ]
    }
   ],
   "source": [
    "#Code for ethanol consumption\n",
    "k,l,m,n, NX = symbols(\"k l m n NX\")\n",
    "Yxe = 0.72\n",
    "l1 = Yxe* MW[\"etoh\"]/MW[\"biomass\"]\n",
    "\n",
    "#Rheienfolge in den vectoren war C,H,O,N\n",
    "eqEt_list = []\n",
    "for num in range(3):\n",
    "    eqEt = Eq(etoh[num]+ k*O2[num]+ l*NX*NH3[num]- l*biomass[num]- m*CO2[num]- n*H2O[num], 0)\n",
    "    eqEt = eqEt.subs({l: l1, NX: NX1})\n",
    "    eqEt_list.append(eqEt)\n",
    "    display(eqEt)\n",
    "\n",
    "solution_Et = sp.solve(eqEt_list, (k, m, n), dict= True)\n",
    "display(solution_Et)\n",
    "\n",
    "k1, m1, n1 = np.float(solution_Et[0][k]), np.float(solution_Et[0][m]), np.float(solution_Et[0][n])\n",
    "Yco2xEt = m1/l1 * MW[\"CO2\"]/MW[\"biomass\"]\n",
    "print(Yco2xEt)\n"
   ]
  },
  {
   "cell_type": "code",
   "execution_count": 19,
   "metadata": {},
   "outputs": [
    {
     "output_type": "stream",
     "name": "stdout",
     "text": [
      "YxsRed  =  0.05\nYesRed  =  0.479229282903973\nYco2xRed  =  9.244017794577056\nYxsOx  =  0.49\nYco2xOx  =  1.23338172253692\nYxe  =  0.72\nYco2xEt  =  0.8957471802080247\n"
     ]
    }
   ],
   "source": [
    "y_list = [YxsRed, YesRed, Yco2xRed, YxsOx, Yco2xOx, Yxe, Yco2xEt]\n",
    "y_list_names = [\"YxsRed\", \"YesRed\", \"Yco2xRed\", \"YxsOx\", \"Yco2xOx\", \"Yxe\", \"Yco2xEt\"]\n",
    "for yi, name in zip (y_list, y_list_names):\n",
    "    print(name, \" = \", yi)"
   ]
  }
 ]
}